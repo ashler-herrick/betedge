{
 "cells": [
  {
   "cell_type": "code",
   "execution_count": 3,
   "id": "c0d5b936",
   "metadata": {},
   "outputs": [
    {
     "name": "stdout",
     "output_type": "stream",
     "text": [
      "The autoreload extension is already loaded. To reload it, use:\n",
      "  %reload_ext autoreload\n"
     ]
    }
   ],
   "source": [
    "%load_ext autoreload\n",
    "%autoreload 2"
   ]
  },
  {
   "cell_type": "code",
   "execution_count": 12,
   "id": "e1902315",
   "metadata": {},
   "outputs": [
    {
     "name": "stdout",
     "output_type": "stream",
     "text": [
      "JobInfo(job_id=UUID('0206947f-af31-4f2c-9352-02d340e15578'), status=<JobStatus.COMPLETED: 'completed'>, total_items=21, completed_items=21, error_message=None, created_at=datetime.datetime(2025, 9, 26, 20, 15, 47, 954434, tzinfo=datetime.timezone.utc), updated_at=datetime.datetime(2025, 9, 26, 20, 15, 47, 954434, tzinfo=datetime.timezone.utc))\n"
     ]
    }
   ],
   "source": [
    "from betedge_data import BetEdgeClient\n",
    "from betedge_data import ClientOptionRequest\n",
    "\n",
    "client = BetEdgeClient()\n",
    "\n",
    "request = ClientOptionRequest(\n",
    "    root=\"AAPL\",\n",
    "    start_date=\"20240101\",\n",
    "    end_date=\"20240131\",\n",
    "    data_schema=\"quote\",\n",
    "    interval=900000,  # 15 minutes in milliseconds\n",
    "    force_refresh=False,\n",
    ")\n",
    "\n",
    "job_info = client.request_data(request)\n",
    "\n",
    "print(job_info)"
   ]
  },
  {
   "cell_type": "code",
   "execution_count": 27,
   "id": "4208c02d",
   "metadata": {},
   "outputs": [],
   "source": [
    "df = client.retrieve_data(request)"
   ]
  },
  {
   "cell_type": "code",
   "execution_count": 37,
   "id": "504b57c0",
   "metadata": {},
   "outputs": [
    {
     "data": {
      "text/html": [
       "<div><style>\n",
       ".dataframe > thead > tr,\n",
       ".dataframe > tbody > tr {\n",
       "  text-align: right;\n",
       "  white-space: pre-wrap;\n",
       "}\n",
       "</style>\n",
       "<small>shape: (1, 14)</small><table border=\"1\" class=\"dataframe\"><thead><tr><th>ms_of_day</th><th>bid_size</th><th>bid_exchange</th><th>bid</th><th>bid_condition</th><th>ask_size</th><th>ask_exchange</th><th>ask</th><th>ask_condition</th><th>date</th><th>root</th><th>expiration</th><th>strike</th><th>right</th></tr><tr><td>u32</td><td>u32</td><td>u32</td><td>u32</td><td>u32</td><td>u32</td><td>u32</td><td>u32</td><td>u32</td><td>u32</td><td>u32</td><td>u32</td><td>u32</td><td>u32</td></tr></thead><tbody><tr><td>1025937</td><td>1025937</td><td>1025937</td><td>1025937</td><td>1025937</td><td>1025937</td><td>1025937</td><td>1025937</td><td>1025937</td><td>1025937</td><td>1025937</td><td>1025937</td><td>1025937</td><td>1025937</td></tr></tbody></table></div>"
      ],
      "text/plain": [
       "shape: (1, 14)\n",
       "┌───────────┬──────────┬──────────────┬─────────┬───┬─────────┬────────────┬─────────┬─────────┐\n",
       "│ ms_of_day ┆ bid_size ┆ bid_exchange ┆ bid     ┆ … ┆ root    ┆ expiration ┆ strike  ┆ right   │\n",
       "│ ---       ┆ ---      ┆ ---          ┆ ---     ┆   ┆ ---     ┆ ---        ┆ ---     ┆ ---     │\n",
       "│ u32       ┆ u32      ┆ u32          ┆ u32     ┆   ┆ u32     ┆ u32        ┆ u32     ┆ u32     │\n",
       "╞═══════════╪══════════╪══════════════╪═════════╪═══╪═════════╪════════════╪═════════╪═════════╡\n",
       "│ 1025937   ┆ 1025937  ┆ 1025937      ┆ 1025937 ┆ … ┆ 1025937 ┆ 1025937    ┆ 1025937 ┆ 1025937 │\n",
       "└───────────┴──────────┴──────────────┴─────────┴───┴─────────┴────────────┴─────────┴─────────┘"
      ]
     },
     "execution_count": 37,
     "metadata": {},
     "output_type": "execute_result"
    }
   ],
   "source": [
    "import polars as pl\n",
    "df.filter((pl.col(\"bid_size\") > 0) & (pl.col(\"ask_size\") > 0)).count()"
   ]
  },
  {
   "cell_type": "code",
   "execution_count": null,
   "id": "820ed936",
   "metadata": {},
   "outputs": [
    {
     "data": {
      "text/html": [
       "<div><style>\n",
       ".dataframe > thead > tr,\n",
       ".dataframe > tbody > tr {\n",
       "  text-align: right;\n",
       "  white-space: pre-wrap;\n",
       "}\n",
       "</style>\n",
       "<small>shape: (1_025_937, 16)</small><table border=\"1\" class=\"dataframe\"><thead><tr><th>ms_of_day</th><th>bid_size</th><th>bid_exchange</th><th>bid</th><th>bid_condition</th><th>ask_size</th><th>ask_exchange</th><th>ask</th><th>ask_condition</th><th>date</th><th>root</th><th>expiration</th><th>strike</th><th>right</th><th>mid</th><th>spread</th></tr><tr><td>u32</td><td>u32</td><td>u32</td><td>f32</td><td>u32</td><td>u32</td><td>u32</td><td>f32</td><td>u32</td><td>u32</td><td>str</td><td>u32</td><td>u32</td><td>str</td><td>f32</td><td>f32</td></tr></thead><tbody><tr><td>35100000</td><td>34</td><td>31</td><td>134.649994</td><td>50</td><td>14</td><td>6</td><td>138.100006</td><td>50</td><td>20240102</td><td>&quot;AAPL&quot;</td><td>20240119</td><td>50000</td><td>&quot;C&quot;</td><td>136.375</td><td>3.450012</td></tr><tr><td>36000000</td><td>30</td><td>60</td><td>134.800003</td><td>50</td><td>30</td><td>60</td><td>139.0</td><td>50</td><td>20240102</td><td>&quot;AAPL&quot;</td><td>20240119</td><td>50000</td><td>&quot;C&quot;</td><td>136.899994</td><td>4.199997</td></tr><tr><td>36900000</td><td>30</td><td>73</td><td>136.5</td><td>50</td><td>30</td><td>73</td><td>136.899994</td><td>50</td><td>20240102</td><td>&quot;AAPL&quot;</td><td>20240119</td><td>50000</td><td>&quot;C&quot;</td><td>136.699997</td><td>0.399994</td></tr><tr><td>37800000</td><td>33</td><td>43</td><td>136.100006</td><td>50</td><td>34</td><td>47</td><td>136.550003</td><td>50</td><td>20240102</td><td>&quot;AAPL&quot;</td><td>20240119</td><td>50000</td><td>&quot;C&quot;</td><td>136.325012</td><td>0.449997</td></tr><tr><td>38700000</td><td>10</td><td>47</td><td>135.5</td><td>50</td><td>30</td><td>47</td><td>135.800003</td><td>50</td><td>20240102</td><td>&quot;AAPL&quot;</td><td>20240119</td><td>50000</td><td>&quot;C&quot;</td><td>135.649994</td><td>0.300003</td></tr><tr><td>&hellip;</td><td>&hellip;</td><td>&hellip;</td><td>&hellip;</td><td>&hellip;</td><td>&hellip;</td><td>&hellip;</td><td>&hellip;</td><td>&hellip;</td><td>&hellip;</td><td>&hellip;</td><td>&hellip;</td><td>&hellip;</td><td>&hellip;</td><td>&hellip;</td><td>&hellip;</td></tr><tr><td>54000000</td><td>3</td><td>1</td><td>185.970001</td><td>0</td><td>3</td><td>60</td><td>185.990005</td><td>0</td><td>20240131</td><td>&quot;AAPL&quot;</td><td>0</td><td>0</td><td>&quot;U&quot;</td><td>185.980011</td><td>0.020004</td></tr><tr><td>54900000</td><td>1</td><td>60</td><td>185.490005</td><td>0</td><td>1</td><td>1</td><td>185.5</td><td>0</td><td>20240131</td><td>&quot;AAPL&quot;</td><td>0</td><td>0</td><td>&quot;U&quot;</td><td>185.494995</td><td>0.009995</td></tr><tr><td>55800000</td><td>8</td><td>65</td><td>185.509995</td><td>0</td><td>3</td><td>1</td><td>185.529999</td><td>0</td><td>20240131</td><td>&quot;AAPL&quot;</td><td>0</td><td>0</td><td>&quot;U&quot;</td><td>185.519989</td><td>0.020004</td></tr><tr><td>56700000</td><td>1</td><td>4</td><td>185.110001</td><td>0</td><td>2</td><td>7</td><td>185.119995</td><td>0</td><td>20240131</td><td>&quot;AAPL&quot;</td><td>0</td><td>0</td><td>&quot;U&quot;</td><td>185.11499</td><td>0.009995</td></tr><tr><td>57600000</td><td>5</td><td>1</td><td>184.380005</td><td>0</td><td>1</td><td>60</td><td>184.389999</td><td>0</td><td>20240131</td><td>&quot;AAPL&quot;</td><td>0</td><td>0</td><td>&quot;U&quot;</td><td>184.38501</td><td>0.009995</td></tr></tbody></table></div>"
      ],
      "text/plain": [
       "shape: (1_025_937, 16)\n",
       "┌───────────┬──────────┬──────────────┬────────────┬───┬────────┬───────┬────────────┬──────────┐\n",
       "│ ms_of_day ┆ bid_size ┆ bid_exchange ┆ bid        ┆ … ┆ strike ┆ right ┆ mid        ┆ spread   │\n",
       "│ ---       ┆ ---      ┆ ---          ┆ ---        ┆   ┆ ---    ┆ ---   ┆ ---        ┆ ---      │\n",
       "│ u32       ┆ u32      ┆ u32          ┆ f32        ┆   ┆ u32    ┆ str   ┆ f32        ┆ f32      │\n",
       "╞═══════════╪══════════╪══════════════╪════════════╪═══╪════════╪═══════╪════════════╪══════════╡\n",
       "│ 35100000  ┆ 34       ┆ 31           ┆ 134.649994 ┆ … ┆ 50000  ┆ C     ┆ 136.375    ┆ 3.450012 │\n",
       "│ 36000000  ┆ 30       ┆ 60           ┆ 134.800003 ┆ … ┆ 50000  ┆ C     ┆ 136.899994 ┆ 4.199997 │\n",
       "│ 36900000  ┆ 30       ┆ 73           ┆ 136.5      ┆ … ┆ 50000  ┆ C     ┆ 136.699997 ┆ 0.399994 │\n",
       "│ 37800000  ┆ 33       ┆ 43           ┆ 136.100006 ┆ … ┆ 50000  ┆ C     ┆ 136.325012 ┆ 0.449997 │\n",
       "│ 38700000  ┆ 10       ┆ 47           ┆ 135.5      ┆ … ┆ 50000  ┆ C     ┆ 135.649994 ┆ 0.300003 │\n",
       "│ …         ┆ …        ┆ …            ┆ …          ┆ … ┆ …      ┆ …     ┆ …          ┆ …        │\n",
       "│ 54000000  ┆ 3        ┆ 1            ┆ 185.970001 ┆ … ┆ 0      ┆ U     ┆ 185.980011 ┆ 0.020004 │\n",
       "│ 54900000  ┆ 1        ┆ 60           ┆ 185.490005 ┆ … ┆ 0      ┆ U     ┆ 185.494995 ┆ 0.009995 │\n",
       "│ 55800000  ┆ 8        ┆ 65           ┆ 185.509995 ┆ … ┆ 0      ┆ U     ┆ 185.519989 ┆ 0.020004 │\n",
       "│ 56700000  ┆ 1        ┆ 4            ┆ 185.110001 ┆ … ┆ 0      ┆ U     ┆ 185.11499  ┆ 0.009995 │\n",
       "│ 57600000  ┆ 5        ┆ 1            ┆ 184.380005 ┆ … ┆ 0      ┆ U     ┆ 184.38501  ┆ 0.009995 │\n",
       "└───────────┴──────────┴──────────────┴────────────┴───┴────────┴───────┴────────────┴──────────┘"
      ]
     },
     "execution_count": 40,
     "metadata": {},
     "output_type": "execute_result"
    }
   ],
   "source": [
    "df = df.filter(\n",
    "    (pl.col(\"bid_size\") > 0) & (pl.col(\"ask_size\") > 0)\n",
    "                ).with_columns([\n",
    "                    ((pl.col(\"bid\") + pl.col(\"ask\"))/2).alias(\"mid\"),\n",
    "                    (pl.col(\"bid\") - pl.col(\"ask\")).abs().alias(\"spread\"),\n",
    "                ])\n"
   ]
  },
  {
   "cell_type": "code",
   "execution_count": 42,
   "id": "c1f9d183",
   "metadata": {},
   "outputs": [
    {
     "data": {
      "text/html": [
       "<div><style>\n",
       ".dataframe > thead > tr,\n",
       ".dataframe > tbody > tr {\n",
       "  text-align: right;\n",
       "  white-space: pre-wrap;\n",
       "}\n",
       "</style>\n",
       "<small>shape: (1_025_370, 30)</small><table border=\"1\" class=\"dataframe\"><thead><tr><th>ms_of_day</th><th>bid_size</th><th>bid_exchange</th><th>bid</th><th>bid_condition</th><th>ask_size</th><th>ask_exchange</th><th>ask</th><th>ask_condition</th><th>date</th><th>root</th><th>expiration</th><th>strike</th><th>right</th><th>mid</th><th>spread</th><th>bid_size_right</th><th>bid_exchange_right</th><th>bid_right</th><th>bid_condition_right</th><th>ask_size_right</th><th>ask_exchange_right</th><th>ask_right</th><th>ask_condition_right</th><th>root_right</th><th>expiration_right</th><th>strike_right</th><th>right_right</th><th>mid_right</th><th>spread_right</th></tr><tr><td>u32</td><td>u32</td><td>u32</td><td>f32</td><td>u32</td><td>u32</td><td>u32</td><td>f32</td><td>u32</td><td>u32</td><td>str</td><td>u32</td><td>u32</td><td>str</td><td>f32</td><td>f32</td><td>u32</td><td>u32</td><td>f32</td><td>u32</td><td>u32</td><td>u32</td><td>f32</td><td>u32</td><td>str</td><td>u32</td><td>u32</td><td>str</td><td>f32</td><td>f32</td></tr></thead><tbody><tr><td>35100000</td><td>34</td><td>31</td><td>134.649994</td><td>50</td><td>14</td><td>6</td><td>138.100006</td><td>50</td><td>20240102</td><td>&quot;AAPL&quot;</td><td>20240119</td><td>50000</td><td>&quot;C&quot;</td><td>136.375</td><td>3.450012</td><td>1</td><td>1</td><td>186.25</td><td>0</td><td>7</td><td>60</td><td>186.259995</td><td>0</td><td>&quot;AAPL&quot;</td><td>0</td><td>0</td><td>&quot;U&quot;</td><td>186.255005</td><td>0.009995</td></tr><tr><td>36000000</td><td>30</td><td>60</td><td>134.800003</td><td>50</td><td>30</td><td>60</td><td>139.0</td><td>50</td><td>20240102</td><td>&quot;AAPL&quot;</td><td>20240119</td><td>50000</td><td>&quot;C&quot;</td><td>136.899994</td><td>4.199997</td><td>3</td><td>65</td><td>186.509995</td><td>0</td><td>3</td><td>60</td><td>186.529999</td><td>0</td><td>&quot;AAPL&quot;</td><td>0</td><td>0</td><td>&quot;U&quot;</td><td>186.519989</td><td>0.020004</td></tr><tr><td>36900000</td><td>30</td><td>73</td><td>136.5</td><td>50</td><td>30</td><td>73</td><td>136.899994</td><td>50</td><td>20240102</td><td>&quot;AAPL&quot;</td><td>20240119</td><td>50000</td><td>&quot;C&quot;</td><td>136.699997</td><td>0.399994</td><td>4</td><td>3</td><td>186.520004</td><td>0</td><td>1</td><td>1</td><td>186.529999</td><td>0</td><td>&quot;AAPL&quot;</td><td>0</td><td>0</td><td>&quot;U&quot;</td><td>186.524994</td><td>0.009995</td></tr><tr><td>37800000</td><td>33</td><td>43</td><td>136.100006</td><td>50</td><td>34</td><td>47</td><td>136.550003</td><td>50</td><td>20240102</td><td>&quot;AAPL&quot;</td><td>20240119</td><td>50000</td><td>&quot;C&quot;</td><td>136.325012</td><td>0.449997</td><td>2</td><td>7</td><td>186.179993</td><td>0</td><td>4</td><td>3</td><td>186.190002</td><td>0</td><td>&quot;AAPL&quot;</td><td>0</td><td>0</td><td>&quot;U&quot;</td><td>186.184998</td><td>0.01001</td></tr><tr><td>38700000</td><td>10</td><td>47</td><td>135.5</td><td>50</td><td>30</td><td>47</td><td>135.800003</td><td>50</td><td>20240102</td><td>&quot;AAPL&quot;</td><td>20240119</td><td>50000</td><td>&quot;C&quot;</td><td>135.649994</td><td>0.300003</td><td>4</td><td>68</td><td>185.520004</td><td>0</td><td>6</td><td>3</td><td>185.539993</td><td>0</td><td>&quot;AAPL&quot;</td><td>0</td><td>0</td><td>&quot;U&quot;</td><td>185.529999</td><td>0.019989</td></tr><tr><td>&hellip;</td><td>&hellip;</td><td>&hellip;</td><td>&hellip;</td><td>&hellip;</td><td>&hellip;</td><td>&hellip;</td><td>&hellip;</td><td>&hellip;</td><td>&hellip;</td><td>&hellip;</td><td>&hellip;</td><td>&hellip;</td><td>&hellip;</td><td>&hellip;</td><td>&hellip;</td><td>&hellip;</td><td>&hellip;</td><td>&hellip;</td><td>&hellip;</td><td>&hellip;</td><td>&hellip;</td><td>&hellip;</td><td>&hellip;</td><td>&hellip;</td><td>&hellip;</td><td>&hellip;</td><td>&hellip;</td><td>&hellip;</td><td>&hellip;</td></tr><tr><td>54000000</td><td>51</td><td>7</td><td>191.550003</td><td>50</td><td>50</td><td>1</td><td>195.75</td><td>50</td><td>20240131</td><td>&quot;AAPL&quot;</td><td>20250321</td><td>380000</td><td>&quot;P&quot;</td><td>193.649994</td><td>4.199997</td><td>3</td><td>1</td><td>185.970001</td><td>0</td><td>3</td><td>60</td><td>185.990005</td><td>0</td><td>&quot;AAPL&quot;</td><td>0</td><td>0</td><td>&quot;U&quot;</td><td>185.980011</td><td>0.020004</td></tr><tr><td>54900000</td><td>56</td><td>1</td><td>192.149994</td><td>50</td><td>50</td><td>1</td><td>196.800003</td><td>50</td><td>20240131</td><td>&quot;AAPL&quot;</td><td>20250321</td><td>380000</td><td>&quot;P&quot;</td><td>194.475006</td><td>4.650009</td><td>1</td><td>60</td><td>185.490005</td><td>0</td><td>1</td><td>1</td><td>185.5</td><td>0</td><td>&quot;AAPL&quot;</td><td>0</td><td>0</td><td>&quot;U&quot;</td><td>185.494995</td><td>0.009995</td></tr><tr><td>55800000</td><td>50</td><td>1</td><td>193.0</td><td>50</td><td>50</td><td>60</td><td>196.850006</td><td>50</td><td>20240131</td><td>&quot;AAPL&quot;</td><td>20250321</td><td>380000</td><td>&quot;P&quot;</td><td>194.925003</td><td>3.850006</td><td>8</td><td>65</td><td>185.509995</td><td>0</td><td>3</td><td>1</td><td>185.529999</td><td>0</td><td>&quot;AAPL&quot;</td><td>0</td><td>0</td><td>&quot;U&quot;</td><td>185.519989</td><td>0.020004</td></tr><tr><td>56700000</td><td>57</td><td>1</td><td>193.0</td><td>50</td><td>50</td><td>60</td><td>196.800003</td><td>50</td><td>20240131</td><td>&quot;AAPL&quot;</td><td>20250321</td><td>380000</td><td>&quot;P&quot;</td><td>194.899994</td><td>3.800003</td><td>1</td><td>4</td><td>185.110001</td><td>0</td><td>2</td><td>7</td><td>185.119995</td><td>0</td><td>&quot;AAPL&quot;</td><td>0</td><td>0</td><td>&quot;U&quot;</td><td>185.11499</td><td>0.009995</td></tr><tr><td>57600000</td><td>32</td><td>43</td><td>193.0</td><td>50</td><td>1</td><td>46</td><td>197.5</td><td>50</td><td>20240131</td><td>&quot;AAPL&quot;</td><td>20250321</td><td>380000</td><td>&quot;P&quot;</td><td>195.25</td><td>4.5</td><td>5</td><td>1</td><td>184.380005</td><td>0</td><td>1</td><td>60</td><td>184.389999</td><td>0</td><td>&quot;AAPL&quot;</td><td>0</td><td>0</td><td>&quot;U&quot;</td><td>184.38501</td><td>0.009995</td></tr></tbody></table></div>"
      ],
      "text/plain": [
       "shape: (1_025_370, 30)\n",
       "┌───────────┬──────────┬───────────┬───────────┬───┬───────────┬───────────┬───────────┬───────────┐\n",
       "│ ms_of_day ┆ bid_size ┆ bid_excha ┆ bid       ┆ … ┆ strike_ri ┆ right_rig ┆ mid_right ┆ spread_ri │\n",
       "│ ---       ┆ ---      ┆ nge       ┆ ---       ┆   ┆ ght       ┆ ht        ┆ ---       ┆ ght       │\n",
       "│ u32       ┆ u32      ┆ ---       ┆ f32       ┆   ┆ ---       ┆ ---       ┆ f32       ┆ ---       │\n",
       "│           ┆          ┆ u32       ┆           ┆   ┆ u32       ┆ str       ┆           ┆ f32       │\n",
       "╞═══════════╪══════════╪═══════════╪═══════════╪═══╪═══════════╪═══════════╪═══════════╪═══════════╡\n",
       "│ 35100000  ┆ 34       ┆ 31        ┆ 134.64999 ┆ … ┆ 0         ┆ U         ┆ 186.25500 ┆ 0.009995  │\n",
       "│           ┆          ┆           ┆ 4         ┆   ┆           ┆           ┆ 5         ┆           │\n",
       "│ 36000000  ┆ 30       ┆ 60        ┆ 134.80000 ┆ … ┆ 0         ┆ U         ┆ 186.51998 ┆ 0.020004  │\n",
       "│           ┆          ┆           ┆ 3         ┆   ┆           ┆           ┆ 9         ┆           │\n",
       "│ 36900000  ┆ 30       ┆ 73        ┆ 136.5     ┆ … ┆ 0         ┆ U         ┆ 186.52499 ┆ 0.009995  │\n",
       "│           ┆          ┆           ┆           ┆   ┆           ┆           ┆ 4         ┆           │\n",
       "│ 37800000  ┆ 33       ┆ 43        ┆ 136.10000 ┆ … ┆ 0         ┆ U         ┆ 186.18499 ┆ 0.01001   │\n",
       "│           ┆          ┆           ┆ 6         ┆   ┆           ┆           ┆ 8         ┆           │\n",
       "│ 38700000  ┆ 10       ┆ 47        ┆ 135.5     ┆ … ┆ 0         ┆ U         ┆ 185.52999 ┆ 0.019989  │\n",
       "│           ┆          ┆           ┆           ┆   ┆           ┆           ┆ 9         ┆           │\n",
       "│ …         ┆ …        ┆ …         ┆ …         ┆ … ┆ …         ┆ …         ┆ …         ┆ …         │\n",
       "│ 54000000  ┆ 51       ┆ 7         ┆ 191.55000 ┆ … ┆ 0         ┆ U         ┆ 185.98001 ┆ 0.020004  │\n",
       "│           ┆          ┆           ┆ 3         ┆   ┆           ┆           ┆ 1         ┆           │\n",
       "│ 54900000  ┆ 56       ┆ 1         ┆ 192.14999 ┆ … ┆ 0         ┆ U         ┆ 185.49499 ┆ 0.009995  │\n",
       "│           ┆          ┆           ┆ 4         ┆   ┆           ┆           ┆ 5         ┆           │\n",
       "│ 55800000  ┆ 50       ┆ 1         ┆ 193.0     ┆ … ┆ 0         ┆ U         ┆ 185.51998 ┆ 0.020004  │\n",
       "│           ┆          ┆           ┆           ┆   ┆           ┆           ┆ 9         ┆           │\n",
       "│ 56700000  ┆ 57       ┆ 1         ┆ 193.0     ┆ … ┆ 0         ┆ U         ┆ 185.11499 ┆ 0.009995  │\n",
       "│ 57600000  ┆ 32       ┆ 43        ┆ 193.0     ┆ … ┆ 0         ┆ U         ┆ 184.38501 ┆ 0.009995  │\n",
       "└───────────┴──────────┴───────────┴───────────┴───┴───────────┴───────────┴───────────┴───────────┘"
      ]
     },
     "execution_count": 42,
     "metadata": {},
     "output_type": "execute_result"
    }
   ],
   "source": [
    "stock = df.filter(pl.col(\"expiration\") == 0)\n",
    "joined = df.filter(pl.col(\"expiration\") != 0).join(\n",
    "    stock, on=[\"ms_of_day\", \"date\"]\n",
    ")\n",
    "joined"
   ]
  },
  {
   "cell_type": "code",
   "execution_count": null,
   "id": "b268e4e6",
   "metadata": {},
   "outputs": [
    {
     "name": "stdout",
     "output_type": "stream",
     "text": [
      "http://127.0.0.1:25510/v2/bulk_hist/option/quote?root=AAPL&exp=0&start_date=20240102&end_date=20240102&ivl=900000\n",
      "<Response [200 OK]>\n"
     ]
    }
   ],
   "source": [
    "import httpx\n",
    "\n",
    "subreqs = request.get_subrequests()\n",
    "\n",
    "r = subreqs[0]\n",
    "url = r.get_url()\n",
    "http_client = httpx.Client(\n",
    "    timeout=60,\n",
    "    limits=httpx.Limits(\n",
    "        max_connections=4,\n",
    "        max_keepalive_connections=4,\n",
    "    ),\n",
    "    transport=httpx.HTTPTransport(retries=0),\n",
    "    http2=True,\n",
    "    headers={},\n",
    ")\n",
    "\n",
    "response = http_client.get(url)\n",
    "print(url)\n",
    "print(response)"
   ]
  }
 ],
 "metadata": {
  "kernelspec": {
   "display_name": "betedge_data",
   "language": "python",
   "name": "betedge_data"
  },
  "language_info": {
   "codemirror_mode": {
    "name": "ipython",
    "version": 3
   },
   "file_extension": ".py",
   "mimetype": "text/x-python",
   "name": "python",
   "nbconvert_exporter": "python",
   "pygments_lexer": "ipython3",
   "version": "3.11.11"
  }
 },
 "nbformat": 4,
 "nbformat_minor": 5
}
