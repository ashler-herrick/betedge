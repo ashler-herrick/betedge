{
 "cells": [
  {
   "cell_type": "code",
   "execution_count": 3,
   "id": "c0d5b936",
   "metadata": {},
   "outputs": [
    {
     "name": "stdout",
     "output_type": "stream",
     "text": [
      "The autoreload extension is already loaded. To reload it, use:\n",
      "  %reload_ext autoreload\n"
     ]
    }
   ],
   "source": [
    "%load_ext autoreload\n",
    "%autoreload 2"
   ]
  },
  {
   "cell_type": "code",
   "execution_count": 12,
   "id": "e1902315",
   "metadata": {},
   "outputs": [
    {
     "name": "stdout",
     "output_type": "stream",
     "text": [
      "JobInfo(job_id=UUID('0206947f-af31-4f2c-9352-02d340e15578'), status=<JobStatus.COMPLETED: 'completed'>, total_items=21, completed_items=21, error_message=None, created_at=datetime.datetime(2025, 9, 26, 20, 15, 47, 954434, tzinfo=datetime.timezone.utc), updated_at=datetime.datetime(2025, 9, 26, 20, 15, 47, 954434, tzinfo=datetime.timezone.utc))\n"
     ]
    }
   ],
   "source": [
    "from betedge_data import BetEdgeClient\n",
    "from betedge_data import ClientOptionRequest\n",
    "\n",
    "client = BetEdgeClient()\n",
    "\n",
    "request = ClientOptionRequest(\n",
    "    root=\"AAPL\",\n",
    "    start_date=\"20240101\",\n",
    "    end_date=\"20240131\",\n",
    "    data_schema=\"quote\",\n",
    "    interval=900000,  # 15 minutes in milliseconds\n",
    "    force_refresh=False,\n",
    ")\n",
    "\n",
    "job_info = client.request_data(request)\n",
    "\n",
    "print(job_info)"
   ]
  },
  {
   "cell_type": "code",
   "execution_count": 18,
   "id": "4208c02d",
   "metadata": {},
   "outputs": [],
   "source": [
    "df = client.retrieve_data(request)"
   ]
  },
  {
   "cell_type": "code",
   "execution_count": null,
   "id": "b268e4e6",
   "metadata": {},
   "outputs": [
    {
     "name": "stdout",
     "output_type": "stream",
     "text": [
      "http://127.0.0.1:25510/v2/bulk_hist/option/quote?root=AAPL&exp=0&start_date=20240102&end_date=20240102&ivl=900000\n",
      "<Response [200 OK]>\n"
     ]
    }
   ],
   "source": [
    "import httpx\n",
    "\n",
    "subreqs = request.get_subrequests()\n",
    "\n",
    "r = subreqs[0]\n",
    "url = r.get_url()\n",
    "http_client = httpx.Client(\n",
    "            timeout=60,\n",
    "            limits=httpx.Limits(\n",
    "                max_connections=4,\n",
    "                max_keepalive_connections=4,\n",
    "            ),\n",
    "            transport=httpx.HTTPTransport(retries=0),\n",
    "            http2=True,\n",
    "            headers={},\n",
    "        )\n",
    "\n",
    "response = http_client.get(url)\n",
    "print(url)\n",
    "print(response)"
   ]
  }
 ],
 "metadata": {
  "kernelspec": {
   "display_name": "betedge_data",
   "language": "python",
   "name": "betedge_data"
  },
  "language_info": {
   "codemirror_mode": {
    "name": "ipython",
    "version": 3
   },
   "file_extension": ".py",
   "mimetype": "text/x-python",
   "name": "python",
   "nbconvert_exporter": "python",
   "pygments_lexer": "ipython3",
   "version": "3.11.11"
  }
 },
 "nbformat": 4,
 "nbformat_minor": 5
}
