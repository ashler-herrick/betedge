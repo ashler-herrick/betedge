{
 "cells": [
  {
   "cell_type": "code",
   "execution_count": 3,
   "id": "c0d5b936",
   "metadata": {},
   "outputs": [
    {
     "name": "stdout",
     "output_type": "stream",
     "text": [
      "The autoreload extension is already loaded. To reload it, use:\n",
      "  %reload_ext autoreload\n"
     ]
    }
   ],
   "source": [
    "%load_ext autoreload\n",
    "%autoreload 2"
   ]
  },
  {
   "cell_type": "code",
   "execution_count": 12,
   "id": "e1902315",
   "metadata": {},
   "outputs": [
    {
     "name": "stdout",
     "output_type": "stream",
     "text": [
      "JobInfo(job_id=UUID('0206947f-af31-4f2c-9352-02d340e15578'), status=<JobStatus.COMPLETED: 'completed'>, total_items=21, completed_items=21, error_message=None, created_at=datetime.datetime(2025, 9, 26, 20, 15, 47, 954434, tzinfo=datetime.timezone.utc), updated_at=datetime.datetime(2025, 9, 26, 20, 15, 47, 954434, tzinfo=datetime.timezone.utc))\n"
     ]
    }
   ],
   "source": [
    "from betedge_data import BetEdgeClient\n",
    "from betedge_data import ClientOptionRequest\n",
    "\n",
    "client = BetEdgeClient()\n",
    "\n",
    "request = ClientOptionRequest(\n",
    "    root=\"AAPL\",\n",
    "    start_date=\"20240101\",\n",
    "    end_date=\"20240131\",\n",
    "    data_schema=\"quote\",\n",
    "    interval=900000,  # 15 minutes in milliseconds\n",
    "    force_refresh=False,\n",
    ")\n",
    "\n",
    "job_info = client.request_data(request)\n",
    "\n",
    "print(job_info)"
   ]
  },
  {
   "cell_type": "code",
   "execution_count": 18,
   "id": "4208c02d",
   "metadata": {},
   "outputs": [],
   "source": [
    "df = client.retrieve_data(request)"
   ]
  },
  {
   "cell_type": "code",
   "execution_count": 23,
   "id": "b268e4e6",
   "metadata": {},
   "outputs": [
    {
     "data": {
      "text/html": [
       "<div><style>\n",
       ".dataframe > thead > tr,\n",
       ".dataframe > tbody > tr {\n",
       "  text-align: right;\n",
       "  white-space: pre-wrap;\n",
       "}\n",
       "</style>\n",
       "<small>shape: (1_187_649, 14)</small><table border=\"1\" class=\"dataframe\"><thead><tr><th>ms_of_day</th><th>bid_size</th><th>bid_exchange</th><th>bid</th><th>bid_condition</th><th>ask_size</th><th>ask_exchange</th><th>ask</th><th>ask_condition</th><th>date</th><th>root</th><th>expiration</th><th>strike</th><th>right</th></tr><tr><td>u32</td><td>u32</td><td>u32</td><td>f32</td><td>u32</td><td>u32</td><td>u32</td><td>f32</td><td>u32</td><td>u32</td><td>str</td><td>u32</td><td>u32</td><td>str</td></tr></thead><tbody><tr><td>34200000</td><td>0</td><td>1</td><td>0.0</td><td>50</td><td>0</td><td>1</td><td>0.0</td><td>50</td><td>20240102</td><td>&quot;AAPL&quot;</td><td>20240119</td><td>50000</td><td>&quot;P&quot;</td></tr><tr><td>35100000</td><td>0</td><td>1</td><td>0.0</td><td>50</td><td>642</td><td>69</td><td>0.01</td><td>50</td><td>20240102</td><td>&quot;AAPL&quot;</td><td>20240119</td><td>50000</td><td>&quot;P&quot;</td></tr><tr><td>36000000</td><td>0</td><td>1</td><td>0.0</td><td>50</td><td>654</td><td>69</td><td>0.01</td><td>50</td><td>20240102</td><td>&quot;AAPL&quot;</td><td>20240119</td><td>50000</td><td>&quot;P&quot;</td></tr><tr><td>36900000</td><td>0</td><td>1</td><td>0.0</td><td>50</td><td>654</td><td>69</td><td>0.01</td><td>50</td><td>20240102</td><td>&quot;AAPL&quot;</td><td>20240119</td><td>50000</td><td>&quot;P&quot;</td></tr><tr><td>37800000</td><td>0</td><td>1</td><td>0.0</td><td>50</td><td>654</td><td>69</td><td>0.01</td><td>50</td><td>20240102</td><td>&quot;AAPL&quot;</td><td>20240119</td><td>50000</td><td>&quot;P&quot;</td></tr><tr><td>&hellip;</td><td>&hellip;</td><td>&hellip;</td><td>&hellip;</td><td>&hellip;</td><td>&hellip;</td><td>&hellip;</td><td>&hellip;</td><td>&hellip;</td><td>&hellip;</td><td>&hellip;</td><td>&hellip;</td><td>&hellip;</td><td>&hellip;</td></tr><tr><td>54000000</td><td>3</td><td>1</td><td>185.970001</td><td>0</td><td>3</td><td>60</td><td>185.990005</td><td>0</td><td>20240131</td><td>&quot;AAPL&quot;</td><td>0</td><td>0</td><td>&quot;U&quot;</td></tr><tr><td>54900000</td><td>1</td><td>60</td><td>185.490005</td><td>0</td><td>1</td><td>1</td><td>185.5</td><td>0</td><td>20240131</td><td>&quot;AAPL&quot;</td><td>0</td><td>0</td><td>&quot;U&quot;</td></tr><tr><td>55800000</td><td>8</td><td>65</td><td>185.509995</td><td>0</td><td>3</td><td>1</td><td>185.529999</td><td>0</td><td>20240131</td><td>&quot;AAPL&quot;</td><td>0</td><td>0</td><td>&quot;U&quot;</td></tr><tr><td>56700000</td><td>1</td><td>4</td><td>185.110001</td><td>0</td><td>2</td><td>7</td><td>185.119995</td><td>0</td><td>20240131</td><td>&quot;AAPL&quot;</td><td>0</td><td>0</td><td>&quot;U&quot;</td></tr><tr><td>57600000</td><td>5</td><td>1</td><td>184.380005</td><td>0</td><td>1</td><td>60</td><td>184.389999</td><td>0</td><td>20240131</td><td>&quot;AAPL&quot;</td><td>0</td><td>0</td><td>&quot;U&quot;</td></tr></tbody></table></div>"
      ],
      "text/plain": [
       "shape: (1_187_649, 14)\n",
       "┌───────────┬──────────┬──────────────┬────────────┬───┬──────┬────────────┬────────┬───────┐\n",
       "│ ms_of_day ┆ bid_size ┆ bid_exchange ┆ bid        ┆ … ┆ root ┆ expiration ┆ strike ┆ right │\n",
       "│ ---       ┆ ---      ┆ ---          ┆ ---        ┆   ┆ ---  ┆ ---        ┆ ---    ┆ ---   │\n",
       "│ u32       ┆ u32      ┆ u32          ┆ f32        ┆   ┆ str  ┆ u32        ┆ u32    ┆ str   │\n",
       "╞═══════════╪══════════╪══════════════╪════════════╪═══╪══════╪════════════╪════════╪═══════╡\n",
       "│ 34200000  ┆ 0        ┆ 1            ┆ 0.0        ┆ … ┆ AAPL ┆ 20240119   ┆ 50000  ┆ P     │\n",
       "│ 35100000  ┆ 0        ┆ 1            ┆ 0.0        ┆ … ┆ AAPL ┆ 20240119   ┆ 50000  ┆ P     │\n",
       "│ 36000000  ┆ 0        ┆ 1            ┆ 0.0        ┆ … ┆ AAPL ┆ 20240119   ┆ 50000  ┆ P     │\n",
       "│ 36900000  ┆ 0        ┆ 1            ┆ 0.0        ┆ … ┆ AAPL ┆ 20240119   ┆ 50000  ┆ P     │\n",
       "│ 37800000  ┆ 0        ┆ 1            ┆ 0.0        ┆ … ┆ AAPL ┆ 20240119   ┆ 50000  ┆ P     │\n",
       "│ …         ┆ …        ┆ …            ┆ …          ┆ … ┆ …    ┆ …          ┆ …      ┆ …     │\n",
       "│ 54000000  ┆ 3        ┆ 1            ┆ 185.970001 ┆ … ┆ AAPL ┆ 0          ┆ 0      ┆ U     │\n",
       "│ 54900000  ┆ 1        ┆ 60           ┆ 185.490005 ┆ … ┆ AAPL ┆ 0          ┆ 0      ┆ U     │\n",
       "│ 55800000  ┆ 8        ┆ 65           ┆ 185.509995 ┆ … ┆ AAPL ┆ 0          ┆ 0      ┆ U     │\n",
       "│ 56700000  ┆ 1        ┆ 4            ┆ 185.110001 ┆ … ┆ AAPL ┆ 0          ┆ 0      ┆ U     │\n",
       "│ 57600000  ┆ 5        ┆ 1            ┆ 184.380005 ┆ … ┆ AAPL ┆ 0          ┆ 0      ┆ U     │\n",
       "└───────────┴──────────┴──────────────┴────────────┴───┴──────┴────────────┴────────┴───────┘"
      ]
     },
     "execution_count": 23,
     "metadata": {},
     "output_type": "execute_result"
    }
   ],
   "source": [
    "df"
   ]
  }
 ],
 "metadata": {
  "kernelspec": {
   "display_name": "betedge_data",
   "language": "python",
   "name": "betedge_data"
  },
  "language_info": {
   "codemirror_mode": {
    "name": "ipython",
    "version": 3
   },
   "file_extension": ".py",
   "mimetype": "text/x-python",
   "name": "python",
   "nbconvert_exporter": "python",
   "pygments_lexer": "ipython3",
   "version": "3.11.11"
  }
 },
 "nbformat": 4,
 "nbformat_minor": 5
}
